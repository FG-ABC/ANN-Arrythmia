{
 "cells": [
  {
   "cell_type": "code",
   "execution_count": 174,
   "metadata": {},
   "outputs": [],
   "source": [
    "# Importing the libraries \n",
    "import pandas as pd \n",
    "import numpy as np \n",
    "from tensorflow import keras \n",
    "from keras import layers \n",
    "from sklearn.model_selection import train_test_split\n",
    "from sklearn import preprocessing"
   ]
  },
  {
   "cell_type": "code",
   "execution_count": 175,
   "metadata": {},
   "outputs": [],
   "source": [
    "# Importing the data \n",
    "df = pd.read_csv('dataset.csv')\n",
    "Pulse = df['Pulse']\n",
    "Oxygen = df['Oxygen']\n",
    "Evaluation = df['Evaluation']\n"
   ]
  },
  {
   "cell_type": "code",
   "execution_count": 184,
   "metadata": {},
   "outputs": [],
   "source": [
    "# split the data into train and test set \n",
    "train, test = train_test_split( \n",
    "\tdf, test_size=0.33, random_state=0, shuffle= True) \n",
    "\n",
    "# Constructing the inputs\n",
    "x = np.column_stack((train.Pulse.values, train.Oxygen.values)) \n",
    "y = train.Evaluation.values\n",
    "\n",
    "x_test = np.column_stack((test.Pulse.values, test.Oxygen.values))\n",
    "y_test = test.Evaluation.values\n",
    "\n",
    "# Convert Evaluation to indeces 0-2\n",
    "for i in range(len(y)):\n",
    "    if y[i] == 'Normal':\n",
    "        y[i] = 0\n",
    "    elif y[i] == 'Potential Bradycardia':\n",
    "        y[i] = 1\n",
    "    else:\n",
    "        y[i] = 2\n",
    "\n",
    "for i in range(len(y_test)):\n",
    "    if y_test[i] == 'Normal':\n",
    "        y_test[i] = 0\n",
    "    elif y_test[i] == 'Potential Bradycardia':\n",
    "        y_test[i] = 1\n",
    "    else:\n",
    "        y_test[i] = 2\n",
    "        \n",
    "x = np.asarray(x).astype('float')\n",
    "x = preprocessing.normalize(x)\n",
    "y = np.asarray(y).astype('float')\n",
    "x_test = np.asarray(x_test).astype('float')\n",
    "x_test = preprocessing.normalize(x_test)\n",
    "y_test = np.asarray(y_test).astype('float')"
   ]
  },
  {
   "cell_type": "code",
   "execution_count": 185,
   "metadata": {},
   "outputs": [
    {
     "name": "stdout",
     "output_type": "stream",
     "text": [
      "6179\n",
      "6892\n",
      "6959\n",
      "[[0.31229019 0.94998676]\n",
      " [0.45174451 0.89214735]\n",
      " [0.40188322 0.91569093]\n",
      " ...\n",
      " [0.83149369 0.55553419]\n",
      " [0.81380845 0.58113321]\n",
      " [0.66670874 0.74531836]]\n",
      "[1. 1. 1. ... 2. 2. 0.]\n"
     ]
    }
   ],
   "source": [
    "one = 0\n",
    "two = 0\n",
    "three = 0\n",
    "for i in range(len(y_test)):\n",
    "    if y_test[i] == 0:\n",
    "        one += 1\n",
    "    elif y_test[i] == 1:\n",
    "        two += 1\n",
    "    else:\n",
    "        three += 1\n",
    "\n",
    "print(one)\n",
    "print(two)\n",
    "print(three)\n",
    "print(x)\n",
    "print(y)"
   ]
  },
  {
   "cell_type": "code",
   "execution_count": 186,
   "metadata": {},
   "outputs": [
    {
     "name": "stdout",
     "output_type": "stream",
     "text": [
      "Epoch 1/10\n",
      "2542/2542 [==============================] - 4s 1ms/step - loss: 0.1208 - accuracy: 0.9551 - val_loss: 0.0683 - val_accuracy: 0.9704\n",
      "Epoch 2/10\n",
      "2542/2542 [==============================] - 4s 2ms/step - loss: 0.0673 - accuracy: 0.9680 - val_loss: 0.0938 - val_accuracy: 0.9601\n",
      "Epoch 3/10\n",
      "2542/2542 [==============================] - 4s 2ms/step - loss: 0.0642 - accuracy: 0.9691 - val_loss: 0.0562 - val_accuracy: 0.9732\n",
      "Epoch 4/10\n",
      "2542/2542 [==============================] - 4s 2ms/step - loss: 0.0648 - accuracy: 0.9684 - val_loss: 0.0685 - val_accuracy: 0.9656\n",
      "Epoch 5/10\n",
      "2542/2542 [==============================] - 4s 2ms/step - loss: 0.0636 - accuracy: 0.9686 - val_loss: 0.0678 - val_accuracy: 0.9688\n",
      "Epoch 6/10\n",
      "2542/2542 [==============================] - 4s 2ms/step - loss: 0.0630 - accuracy: 0.9693 - val_loss: 0.0574 - val_accuracy: 0.9731\n",
      "Epoch 7/10\n",
      "2542/2542 [==============================] - 3s 1ms/step - loss: 0.0637 - accuracy: 0.9683 - val_loss: 0.0534 - val_accuracy: 0.9720\n",
      "Epoch 8/10\n",
      "2542/2542 [==============================] - 3s 1ms/step - loss: 0.0618 - accuracy: 0.9693 - val_loss: 0.0526 - val_accuracy: 0.9724\n",
      "Epoch 9/10\n",
      "2542/2542 [==============================] - 4s 1ms/step - loss: 0.0630 - accuracy: 0.9686 - val_loss: 0.0533 - val_accuracy: 0.9714\n",
      "Epoch 10/10\n",
      "2542/2542 [==============================] - 4s 1ms/step - loss: 0.0622 - accuracy: 0.9694 - val_loss: 0.0619 - val_accuracy: 0.9720\n"
     ]
    },
    {
     "data": {
      "text/plain": [
       "<keras.callbacks.History at 0x1a368f7b490>"
      ]
     },
     "execution_count": 186,
     "metadata": {},
     "output_type": "execute_result"
    }
   ],
   "source": [
    "# Defining the model \n",
    "model_better = keras.Sequential([ \n",
    "\tkeras.layers.Dense(32, input_shape=(2,), activation='relu'), \n",
    "\tkeras.layers.Dense(32, activation='relu'), \n",
    "\tkeras.layers.Dense(32, activation='relu'),\n",
    "\tkeras.layers.Dense(3, activation='sigmoid') \n",
    "]) \n",
    "\n",
    "# Compiling the model \n",
    "model_better.compile(optimizer='adam', \n",
    "\t\t\t\t\tloss=keras.losses.SparseCategoricalCrossentropy(), \n",
    "\t\t\t\t\tmetrics=['accuracy']) \n",
    "\n",
    "# fitting the model \n",
    "model_better.fit(x, y, epochs=10, validation_data=(x_test,y_test), batch_size=16) "
   ]
  },
  {
   "cell_type": "code",
   "execution_count": 187,
   "metadata": {},
   "outputs": [
    {
     "name": "stdout",
     "output_type": "stream",
     "text": [
      "1252/1252 [==============================] - 1s 826us/step - loss: 0.0619 - accuracy: 0.9720\n"
     ]
    }
   ],
   "source": [
    "# Evaluating the model\n",
    "test_loss, test_acc = model_better.evaluate(x_test, y_test, batch_size=16)"
   ]
  },
  {
   "cell_type": "code",
   "execution_count": 188,
   "metadata": {},
   "outputs": [
    {
     "name": "stdout",
     "output_type": "stream",
     "text": [
      "Test accuracy: 0.971992015838623\n",
      "Test loss: 0.061942487955093384\n"
     ]
    }
   ],
   "source": [
    "print('Test accuracy:', test_acc)\n",
    "print('Test loss:', test_loss)"
   ]
  }
 ],
 "metadata": {
  "kernelspec": {
   "display_name": "Python 3",
   "language": "python",
   "name": "python3"
  },
  "language_info": {
   "codemirror_mode": {
    "name": "ipython",
    "version": 3
   },
   "file_extension": ".py",
   "mimetype": "text/x-python",
   "name": "python",
   "nbconvert_exporter": "python",
   "pygments_lexer": "ipython3",
   "version": "3.10.1"
  }
 },
 "nbformat": 4,
 "nbformat_minor": 2
}
